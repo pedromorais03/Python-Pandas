{
  "nbformat": 4,
  "nbformat_minor": 0,
  "metadata": {
    "colab": {
      "provenance": [],
      "mount_file_id": "1aC1HIhvgSNtnZxGCKbBBp52C4Ujuwg92",
      "authorship_tag": "ABX9TyOXllC0QjKBx5rBjaYJI6Ip",
      "include_colab_link": true
    },
    "kernelspec": {
      "name": "python3",
      "display_name": "Python 3"
    },
    "language_info": {
      "name": "python"
    }
  },
  "cells": [
    {
      "cell_type": "markdown",
      "metadata": {
        "id": "view-in-github",
        "colab_type": "text"
      },
      "source": [
        "<a href=\"https://colab.research.google.com/github/pedromorais03/Python-Pandas/blob/main/aula02Pandas.ipynb\" target=\"_parent\"><img src=\"https://colab.research.google.com/assets/colab-badge.svg\" alt=\"Open In Colab\"/></a>"
      ]
    },
    {
      "cell_type": "code",
      "source": [
        "!pip install pandas\n"
      ],
      "metadata": {
        "colab": {
          "base_uri": "https://localhost:8080/"
        },
        "id": "J4bLF1pfV8H4",
        "outputId": "71e2628e-bc4c-4575-ae1d-ae80b27f7a35"
      },
      "execution_count": null,
      "outputs": [
        {
          "output_type": "stream",
          "name": "stdout",
          "text": [
            "Looking in indexes: https://pypi.org/simple, https://us-python.pkg.dev/colab-wheels/public/simple/\n",
            "Requirement already satisfied: pandas in /usr/local/lib/python3.8/dist-packages (1.3.5)\n",
            "Requirement already satisfied: pytz>=2017.3 in /usr/local/lib/python3.8/dist-packages (from pandas) (2022.7.1)\n",
            "Requirement already satisfied: python-dateutil>=2.7.3 in /usr/local/lib/python3.8/dist-packages (from pandas) (2.8.2)\n",
            "Requirement already satisfied: numpy>=1.17.3 in /usr/local/lib/python3.8/dist-packages (from pandas) (1.21.6)\n",
            "Requirement already satisfied: six>=1.5 in /usr/local/lib/python3.8/dist-packages (from python-dateutil>=2.7.3->pandas) (1.15.0)\n"
          ]
        }
      ]
    },
    {
      "cell_type": "code",
      "execution_count": 7,
      "metadata": {
        "colab": {
          "base_uri": "https://localhost:8080/"
        },
        "id": "HvCGLvAvC1i0",
        "outputId": "1af2b22c-1b89-449e-8aa8-169e6b08561b"
      },
      "outputs": [
        {
          "output_type": "stream",
          "name": "stdout",
          "text": [
            "       Regiao - Sigla;Estado - Sigla;Municipio;Revenda;CNPJ da Revenda;Nome da Rua;Numero Rua;Complemento;Bairro;Cep;Produto;Data da Coleta;Valor de Venda;Valor de Compra;Unidade de Medida;Bandeira\n",
            "0       N;AC;RIO BRANCO;AUTO POSTO AMAPA - EIRELI; 00....                                                                                                                                            \n",
            "1       N;AC;RIO BRANCO;AUTO POSTO AMAPA - EIRELI; 00....                                                                                                                                            \n",
            "2       N;AC;RIO BRANCO;AUTO POSTO AMAPA - EIRELI; 00....                                                                                                                                            \n",
            "3       N;AC;RIO BRANCO;AUTO POSTO AMAPA - EIRELI; 00....                                                                                                                                            \n",
            "4       N;AC;RIO BRANCO;AUTO POSTO AMAPA - EIRELI; 00....                                                                                                                                            \n",
            "...                                                   ...                                                                                                                                            \n",
            "529419  CO;MT;CUIABA;OZ REVENDEDORA DE COMBUSTIVEIS LT...                                                                                                                                            \n",
            "529420  NE;MA;CAXIAS;POSTAO COMERCIO DE COMBUSTIVEIS L...                                                                                                                                            \n",
            "529421  NE;MA;CAXIAS;POSTAO COMERCIO DE COMBUSTIVEIS L...                                                                                                                                            \n",
            "529422  NE;MA;CAXIAS;POSTAO COMERCIO DE COMBUSTIVEIS L...                                                                                                                                            \n",
            "529423  NE;MA;CAXIAS;POSTAO COMERCIO DE COMBUSTIVEIS L...                                                                                                                                            \n",
            "\n",
            "[529424 rows x 1 columns]\n"
          ]
        }
      ],
      "source": [
        "# Importando o Pandas\n",
        "\n",
        "import pandas as pd\n",
        "\n",
        "combustiveis_df = pd.read_csv(\"/content/drive/MyDrive/precos-semestrais-ca-2022-01.csv\", sep='\\t')\n",
        "print(combustiveis_df)"
      ]
    }
  ]
}